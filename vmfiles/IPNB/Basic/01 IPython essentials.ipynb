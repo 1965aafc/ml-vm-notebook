{
 "cells": [
  {
   "cell_type": "markdown",
   "metadata": {
    "collapsed": true
   },
   "source": [
    "# IPython/Notebook essentials"
   ]
  },
  {
   "cell_type": "markdown",
   "metadata": {},
   "source": [
    "A notebook is a document formed by cells; each cell can contain Python code to execute (cell type *Code*) or documentation (cell type [*Markdown*](https://daringfireball.net/projects/markdown/syntax), also including [*Heading markdown*](https://daringfireball.net/projects/markdown/syntax#header)). There are also other, more exotic, cell types.\n",
    "\n",
    "A cell is executed by pressing `CTRL-RETURN` on it. The outcome of the computation (typically the result of the last statement) is output to the notebook (unless the statement is ended by a semicolon). Explicit output is also possible, using `print` statements.\n",
    "\n",
    "The top menu in a Notebook has a *Help* entry with generic information on the Notebook interface, as well as links to the documentation for IPython and for relevant Python libraries.\n",
    "\n",
    "As the *Help* menu says, IPython provides online help is at any moment. To launch it, use the question mark. Try it now by executing the following cell:"
   ]
  },
  {
   "cell_type": "code",
   "execution_count": 2,
   "metadata": {
    "collapsed": true
   },
   "outputs": [],
   "source": [
    "?"
   ]
  },
  {
   "cell_type": "markdown",
   "metadata": {},
   "source": [
    "It is also possible to obtain help for specific Python methods, classes or functions. For instance, execute the following cell:"
   ]
  },
  {
   "cell_type": "code",
   "execution_count": 3,
   "metadata": {
    "collapsed": true
   },
   "outputs": [],
   "source": [
    "?str.split"
   ]
  },
  {
   "cell_type": "markdown",
   "metadata": {
    "collapsed": true
   },
   "source": [
    "For people new to Notebooks, please use now the **Help/User Interface Tour** menu entry to get a feeling on the capabilities of the user interface."
   ]
  },
  {
   "cell_type": "markdown",
   "metadata": {},
   "source": [
    "## Extensions"
   ]
  },
  {
   "cell_type": "markdown",
   "metadata": {},
   "source": [
    "Notebook deployment may contain extensions, which add additional functionality to the standard base software.\n",
    "\n",
    "This deployment comes with one such extension preinstalled: a ToC (*Table of Contents*) extension, which can display all the headings in a notebook as a floating menu. This comes especially handy to navigate long notebooks.\n",
    "\n",
    "The extensions adds a small ToC icon to the right of the toolbar menubar. Click on it to activate/deactivate the ToC for the current notebook."
   ]
  },
  {
   "cell_type": "markdown",
   "metadata": {
    "collapsed": true
   },
   "source": [
    "## Memory management"
   ]
  },
  {
   "cell_type": "markdown",
   "metadata": {},
   "source": [
    "**Important**: Since every notebook started launches a kernel with Spark support, it consumes a sizable amount of memory. Therefore there is a not-too-high limit on the number of notebooks that can be running at the same time. If that limit is exceeded, an error will be generated. There are two solutions:\n",
    "* Close some of the open notebooks (shutdown their kernels). This can be done in the notebook browser.\n",
    "* Increase the RAM assigned to the virtual machine running the notebooks. This can be adjusted in the `Vagrantfile` and is 1 GB by default"
   ]
  }
 ],
 "metadata": {
  "kernelspec": {
   "display_name": "Python 2",
   "language": "python",
   "name": "python2"
  },
  "language_info": {
   "codemirror_mode": {
    "name": "ipython",
    "version": 2
   },
   "file_extension": ".py",
   "mimetype": "text/x-python",
   "name": "python",
   "nbconvert_exporter": "python",
   "pygments_lexer": "ipython2",
   "version": "2.7.5"
  }
 },
 "nbformat": 4,
 "nbformat_minor": 0
}
