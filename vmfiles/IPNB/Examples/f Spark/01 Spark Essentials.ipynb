{
 "cells": [
  {
   "cell_type": "markdown",
   "metadata": {},
   "source": [
    "# 04 Spark essentials"
   ]
  },
  {
   "cell_type": "code",
   "execution_count": 1,
   "metadata": {
    "collapsed": true
   },
   "outputs": [],
   "source": [
    "# Make it Python2 & Python3 compatible\n",
    "from __future__ import print_function\n",
    "import sys\n",
    "if sys.version[0] == 3:\n",
    "    xrange = range"
   ]
  },
  {
   "cell_type": "markdown",
   "metadata": {},
   "source": [
    "## Spark context"
   ]
  },
  {
   "cell_type": "markdown",
   "metadata": {},
   "source": [
    "The notebook deployment includes Spark automatically within each Python notebook kernel. This means that, upon kernel instantiation, there is an [SparkContext](http://spark.apache.org/docs/latest/api/python/pyspark.html#pyspark.SparkContext) object called `sc` immediatelly available in the Notebook, as in a PySpark shell. Let's take a look at it:"
   ]
  },
  {
   "cell_type": "code",
   "execution_count": 2,
   "metadata": {
    "collapsed": false
   },
   "outputs": [],
   "source": [
    "?sc"
   ]
  },
  {
   "cell_type": "markdown",
   "metadata": {
    "collapsed": true
   },
   "source": [
    "We can inspect some of the SparkContext properties:"
   ]
  },
  {
   "cell_type": "code",
   "execution_count": 3,
   "metadata": {
    "collapsed": false
   },
   "outputs": [
    {
     "name": "stdout",
     "output_type": "stream",
     "text": [
      "2.0.2\n"
     ]
    }
   ],
   "source": [
    "# Spark version we are using\n",
    "print( sc.version )"
   ]
  },
  {
   "cell_type": "code",
   "execution_count": 4,
   "metadata": {
    "collapsed": false
   },
   "outputs": [
    {
     "name": "stdout",
     "output_type": "stream",
     "text": [
      "PySparkShell\n"
     ]
    }
   ],
   "source": [
    "# Name of the application we are running\n",
    "print( sc.appName )"
   ]
  },
  {
   "cell_type": "code",
   "execution_count": 5,
   "metadata": {
    "collapsed": false
   },
   "outputs": [
    {
     "data": {
      "text/plain": [
       "u'PySparkShell'"
      ]
     },
     "execution_count": 5,
     "metadata": {},
     "output_type": "execute_result"
    }
   ],
   "source": [
    "sc.appName"
   ]
  },
  {
   "cell_type": "code",
   "execution_count": 6,
   "metadata": {
    "collapsed": false
   },
   "outputs": [
    {
     "name": "stdout",
     "output_type": "stream",
     "text": [
      "2\n",
      "2\n"
     ]
    }
   ],
   "source": [
    "# Some configuration variables\n",
    "print( sc.defaultParallelism )\n",
    "print( sc.defaultMinPartitions )"
   ]
  },
  {
   "cell_type": "code",
   "execution_count": 7,
   "metadata": {
    "collapsed": false
   },
   "outputs": [
    {
     "name": "stdout",
     "output_type": "stream",
     "text": [
      "vmuser\n"
     ]
    }
   ],
   "source": [
    "# Username running all Spark processes\n",
    "# --> Note this is a method, not a property\n",
    "print( sc.sparkUser() )"
   ]
  },
  {
   "cell_type": "markdown",
   "metadata": {},
   "source": [
    "# Spark configuration"
   ]
  },
  {
   "cell_type": "code",
   "execution_count": 8,
   "metadata": {
    "collapsed": false
   },
   "outputs": [
    {
     "name": "stdout",
     "output_type": "stream",
     "text": [
      "spark.app.id=local-1480797223440\n",
      "spark.app.name=PySparkShell\n",
      "spark.driver.host=10.0.2.15\n",
      "spark.driver.port=59834\n",
      "spark.eventLog.dir=/var/log/ipnb\n",
      "spark.eventLog.enabled=true\n",
      "spark.executor.id=driver\n",
      "spark.files=file:/home/vmuser/.ivy2/jars/graphframes_graphframes-0.2.0-spark2.0-s_2.11.jar,file:/home/vmuser/.ivy2/jars/com.typesafe.scala-logging_scala-logging-api_2.11-2.1.2.jar,file:/home/vmuser/.ivy2/jars/com.typesafe.scala-logging_scala-logging-slf4j_2.11-2.1.2.jar,file:/home/vmuser/.ivy2/jars/org.scala-lang_scala-reflect-2.11.0.jar,file:/home/vmuser/.ivy2/jars/org.slf4j_slf4j-api-1.7.7.jar\n",
      "spark.jars=file:/home/vmuser/.ivy2/jars/graphframes_graphframes-0.2.0-spark2.0-s_2.11.jar,file:/home/vmuser/.ivy2/jars/com.typesafe.scala-logging_scala-logging-api_2.11-2.1.2.jar,file:/home/vmuser/.ivy2/jars/com.typesafe.scala-logging_scala-logging-slf4j_2.11-2.1.2.jar,file:/home/vmuser/.ivy2/jars/org.scala-lang_scala-reflect-2.11.0.jar,file:/home/vmuser/.ivy2/jars/org.slf4j_slf4j-api-1.7.7.jar\n",
      "spark.jars.packages=graphframes:graphframes:0.2.0-spark2.0-s_2.11\n",
      "spark.master=local[*]\n",
      "spark.rdd.compress=True\n",
      "spark.serializer.objectStreamReset=100\n",
      "spark.sql.catalogImplementation=hive\n",
      "spark.sql.warehouse.dir=/vagrant/hive/warehouse\n",
      "spark.submit.deployMode=client\n",
      "spark.submit.pyFiles=/home/vmuser/.ivy2/jars/graphframes_graphframes-0.2.0-spark2.0-s_2.11.jar,/home/vmuser/.ivy2/jars/com.typesafe.scala-logging_scala-logging-api_2.11-2.1.2.jar,/home/vmuser/.ivy2/jars/com.typesafe.scala-logging_scala-logging-slf4j_2.11-2.1.2.jar,/home/vmuser/.ivy2/jars/org.scala-lang_scala-reflect-2.11.0.jar,/home/vmuser/.ivy2/jars/org.slf4j_slf4j-api-1.7.7.jar\n"
     ]
    }
   ],
   "source": [
    "# Print out the SparkContext configuration\n",
    "print( sc._conf.toDebugString() )"
   ]
  },
  {
   "cell_type": "code",
   "execution_count": 9,
   "metadata": {
    "collapsed": false
   },
   "outputs": [
    {
     "data": {
      "text/plain": [
       "[(u'spark.eventLog.enabled', u'true'),\n",
       " (u'spark.files',\n",
       "  u'file:/home/vmuser/.ivy2/jars/graphframes_graphframes-0.2.0-spark2.0-s_2.11.jar,file:/home/vmuser/.ivy2/jars/com.typesafe.scala-logging_scala-logging-api_2.11-2.1.2.jar,file:/home/vmuser/.ivy2/jars/com.typesafe.scala-logging_scala-logging-slf4j_2.11-2.1.2.jar,file:/home/vmuser/.ivy2/jars/org.scala-lang_scala-reflect-2.11.0.jar,file:/home/vmuser/.ivy2/jars/org.slf4j_slf4j-api-1.7.7.jar'),\n",
       " (u'spark.jars.packages', u'graphframes:graphframes:0.2.0-spark2.0-s_2.11'),\n",
       " (u'spark.eventLog.dir', u'/var/log/ipnb'),\n",
       " (u'spark.master', u'local[*]'),\n",
       " (u'spark.jars',\n",
       "  u'file:/home/vmuser/.ivy2/jars/graphframes_graphframes-0.2.0-spark2.0-s_2.11.jar,file:/home/vmuser/.ivy2/jars/com.typesafe.scala-logging_scala-logging-api_2.11-2.1.2.jar,file:/home/vmuser/.ivy2/jars/com.typesafe.scala-logging_scala-logging-slf4j_2.11-2.1.2.jar,file:/home/vmuser/.ivy2/jars/org.scala-lang_scala-reflect-2.11.0.jar,file:/home/vmuser/.ivy2/jars/org.slf4j_slf4j-api-1.7.7.jar'),\n",
       " (u'spark.submit.deployMode', u'client'),\n",
       " (u'spark.app.name', u'PySparkShell'),\n",
       " (u'spark.submit.pyFiles',\n",
       "  u'/home/vmuser/.ivy2/jars/graphframes_graphframes-0.2.0-spark2.0-s_2.11.jar,/home/vmuser/.ivy2/jars/com.typesafe.scala-logging_scala-logging-api_2.11-2.1.2.jar,/home/vmuser/.ivy2/jars/com.typesafe.scala-logging_scala-logging-slf4j_2.11-2.1.2.jar,/home/vmuser/.ivy2/jars/org.scala-lang_scala-reflect-2.11.0.jar,/home/vmuser/.ivy2/jars/org.slf4j_slf4j-api-1.7.7.jar')]"
      ]
     },
     "execution_count": 9,
     "metadata": {},
     "output_type": "execute_result"
    }
   ],
   "source": [
    "# Another way to get similar information\n",
    "from pyspark import SparkConf, SparkContext\n",
    "SparkConf().getAll()"
   ]
  },
  {
   "cell_type": "markdown",
   "metadata": {},
   "source": [
    "## Spark execution modes"
   ]
  },
  {
   "cell_type": "markdown",
   "metadata": {},
   "source": [
    "We can also take a look at the Spark configuration this kernel is running under, by using the above configuration data:"
   ]
  },
  {
   "cell_type": "code",
   "execution_count": 10,
   "metadata": {
    "collapsed": false
   },
   "outputs": [
    {
     "name": "stdout",
     "output_type": "stream",
     "text": [
      "spark.app.id=local-1480797223440\n",
      "spark.app.name=PySparkShell\n",
      "spark.driver.host=10.0.2.15\n",
      "spark.driver.port=59834\n",
      "spark.eventLog.dir=/var/log/ipnb\n",
      "spark.eventLog.enabled=true\n",
      "spark.executor.id=driver\n",
      "spark.files=file:/home/vmuser/.ivy2/jars/graphframes_graphframes-0.2.0-spark2.0-s_2.11.jar,file:/home/vmuser/.ivy2/jars/com.typesafe.scala-logging_scala-logging-api_2.11-2.1.2.jar,file:/home/vmuser/.ivy2/jars/com.typesafe.scala-logging_scala-logging-slf4j_2.11-2.1.2.jar,file:/home/vmuser/.ivy2/jars/org.scala-lang_scala-reflect-2.11.0.jar,file:/home/vmuser/.ivy2/jars/org.slf4j_slf4j-api-1.7.7.jar\n",
      "spark.jars=file:/home/vmuser/.ivy2/jars/graphframes_graphframes-0.2.0-spark2.0-s_2.11.jar,file:/home/vmuser/.ivy2/jars/com.typesafe.scala-logging_scala-logging-api_2.11-2.1.2.jar,file:/home/vmuser/.ivy2/jars/com.typesafe.scala-logging_scala-logging-slf4j_2.11-2.1.2.jar,file:/home/vmuser/.ivy2/jars/org.scala-lang_scala-reflect-2.11.0.jar,file:/home/vmuser/.ivy2/jars/org.slf4j_slf4j-api-1.7.7.jar\n",
      "spark.jars.packages=graphframes:graphframes:0.2.0-spark2.0-s_2.11\n",
      "spark.master=local[*]\n",
      "spark.rdd.compress=True\n",
      "spark.serializer.objectStreamReset=100\n",
      "spark.sql.catalogImplementation=hive\n",
      "spark.sql.warehouse.dir=/vagrant/hive/warehouse\n",
      "spark.submit.deployMode=client\n",
      "spark.submit.pyFiles=/home/vmuser/.ivy2/jars/graphframes_graphframes-0.2.0-spark2.0-s_2.11.jar,/home/vmuser/.ivy2/jars/com.typesafe.scala-logging_scala-logging-api_2.11-2.1.2.jar,/home/vmuser/.ivy2/jars/com.typesafe.scala-logging_scala-logging-slf4j_2.11-2.1.2.jar,/home/vmuser/.ivy2/jars/org.scala-lang_scala-reflect-2.11.0.jar,/home/vmuser/.ivy2/jars/org.slf4j_slf4j-api-1.7.7.jar\n"
     ]
    }
   ],
   "source": [
    "print( sc._conf.toDebugString() )"
   ]
  },
  {
   "cell_type": "markdown",
   "metadata": {},
   "source": [
    "... this includes the execution mode for Spark. The default mode is *local*, i.e. all Spark processes run locally in the launched Virtual Machine. This is fine for developing and testing with small datasets.\n",
    "\n",
    "But to run Spark applications on bigger datasets, they must be executed in a remote cluster. This deployment comes with configuration modes for that, which require:\n",
    "* network adjustments to make the VM \"visible\" from the cluster: the virtual machine must be started in _bridged_ mode (the default *Vagrantfile* already contains code for doingso, but it must be uncommented)\n",
    "* configuring the addresses for the cluster. This is done within the VM by using the `spark-notebook` script, such as\n",
    "      sudo service spark-notebook set-addr <master-ip> <namenode-ip> <historyserver-ip>\n",
    "* activating the desired mode, by executing\n",
    "      sudo service spark-notebook set-mode (local | standalone | yarn)\n",
    "\n",
    "These operations can also be performed outside the VM by telling vagrant to relay them, e.g.\n",
    "\n",
    "    vagrant ssh -c \"sudo service spark-notebook set-mode local\""
   ]
  },
  {
   "cell_type": "markdown",
   "metadata": {},
   "source": [
    "## A trivial test\n",
    "\n",
    "Let's do a trivial operation that creates an RDD and executes an action on it. So that we can test that the kernel is capable of launching executors"
   ]
  },
  {
   "cell_type": "code",
   "execution_count": 11,
   "metadata": {
    "collapsed": false
   },
   "outputs": [
    {
     "name": "stdout",
     "output_type": "stream",
     "text": [
      "49995000\n"
     ]
    }
   ],
   "source": [
    "from operator import add\n",
    "\n",
    "l = sc.parallelize( xrange(10000) )\n",
    "print( l.reduce(add) )"
   ]
  }
 ],
 "metadata": {
  "kernelspec": {
   "display_name": "Pyspark (Py 2)",
   "language": "",
   "name": "pyspark"
  },
  "language_info": {
   "codemirror_mode": {
    "name": "ipython",
    "version": 2
   },
   "file_extension": ".py",
   "mimetype": "text/x-python",
   "name": "python",
   "nbconvert_exporter": "python",
   "pygments_lexer": "ipython2",
   "version": "2.7.5"
  }
 },
 "nbformat": 4,
 "nbformat_minor": 0
}
