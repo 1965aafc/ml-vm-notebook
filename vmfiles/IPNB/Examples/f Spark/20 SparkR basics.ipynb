{
 "cells": [
  {
   "cell_type": "markdown",
   "metadata": {},
   "source": [
    "# R Spark basics\n",
    "\n",
    "This notebook shows a few very simple steps with [Spark R](https://spark.apache.org/docs/latest/sparkr.html)"
   ]
  },
  {
   "cell_type": "code",
   "execution_count": null,
   "metadata": {
    "collapsed": false
   },
   "outputs": [],
   "source": [
    "# Load the SparkR package. \n",
    "# It will likely show a few warnings about functions that the package overrides\n",
    "library(SparkR)"
   ]
  },
  {
   "cell_type": "code",
   "execution_count": null,
   "metadata": {
    "collapsed": false
   },
   "outputs": [],
   "source": [
    "# In the IRkernel we do not have an automatically created Spark Context, as in Python & Scala. \n",
    "# We need to initialize the kernel to fetch one. That takes a few moments.\n",
    "sc <- sparkR.init( \"local[*]\" );"
   ]
  },
  {
   "cell_type": "code",
   "execution_count": null,
   "metadata": {
    "collapsed": true
   },
   "outputs": [],
   "source": [
    "# Once we have it, we can also obtain an SQL context\n",
    "sqlContext <- sparkRSQL.init(sc)"
   ]
  },
  {
   "cell_type": "code",
   "execution_count": null,
   "metadata": {
    "collapsed": false
   },
   "outputs": [],
   "source": [
    "# Do something to prove it works\n",
    "\n",
    "# Load one of the standard datasets that come pre-packaged with R\n",
    "data(iris)\n",
    "\n",
    "# Turn the dataset into an SparkR DataFrame\n",
    "df <- createDataFrame(sqlContext, iris)\n",
    "\n",
    "# Inspect it\n",
    "head( filter(df, df$Petal_Width > 0.2) )"
   ]
  },
  {
   "cell_type": "code",
   "execution_count": null,
   "metadata": {
    "collapsed": true
   },
   "outputs": [],
   "source": [
    "# sc is an existing SparkContext.\n",
    "# hiveContext <- sparkRHive.init(sc)"
   ]
  },
  {
   "cell_type": "code",
   "execution_count": null,
   "metadata": {
    "collapsed": true
   },
   "outputs": [],
   "source": []
  }
 ],
 "metadata": {
  "kernelspec": {
   "display_name": "R",
   "language": "R",
   "name": "ir"
  },
  "language_info": {
   "codemirror_mode": "r",
   "file_extension": ".r",
   "mimetype": "text/x-r-source",
   "name": "R",
   "pygments_lexer": "r",
   "version": "3.2.3"
  }
 },
 "nbformat": 4,
 "nbformat_minor": 0
}
