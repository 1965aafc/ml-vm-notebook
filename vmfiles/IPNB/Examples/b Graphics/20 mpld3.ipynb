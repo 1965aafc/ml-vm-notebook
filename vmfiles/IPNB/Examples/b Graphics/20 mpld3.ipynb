{
 "cells": [
  {
   "cell_type": "markdown",
   "metadata": {},
   "source": [
    "# mpld3\n",
    "\n",
    "[mpld3](http://mpld3.github.io/) is a Python package that adds interactivity to Matplotlib graphics, for enhanced visualization in browsers. It does so by producing [D3.js](https://d3js.org/) out of the Matplotlib figure."
   ]
  },
  {
   "cell_type": "code",
   "execution_count": null,
   "metadata": {
    "collapsed": true
   },
   "outputs": [],
   "source": [
    "# first the imports: the matplotlib usuals, plus mpld3\n",
    "import numpy as np\n",
    "import matplotlib.pyplot as plt\n",
    "import mpld3\n",
    "\n",
    "plt.style.use('bmh')"
   ]
  },
  {
   "cell_type": "markdown",
   "metadata": {},
   "source": [
    "## Line graph"
   ]
  },
  {
   "cell_type": "code",
   "execution_count": null,
   "metadata": {
    "collapsed": false
   },
   "outputs": [],
   "source": [
    "# Now we create a regular matplotlib figure, but we tell mpld3 to display it\n",
    "plt.plot( [3,1,4,1,5], 'ks-', mec='w', mew=5, ms=20 )\n",
    "mpld3.display()\n",
    "\n",
    "# The resulting figure will have interactive pan/zoom controls (lower left)"
   ]
  },
  {
   "cell_type": "markdown",
   "metadata": {},
   "source": [
    "## Bubbles with tooltips\n",
    "Another example, this one taken from the [Scatter plot with tooltips](http://mpld3.github.io/examples/scatter_tooltip.html) example in the mpld3 gallery."
   ]
  },
  {
   "cell_type": "code",
   "execution_count": null,
   "metadata": {
    "collapsed": false
   },
   "outputs": [],
   "source": [
    "\"\"\"\n",
    "Scatter Plot With Tooltips\n",
    "==========================\n",
    "A scatter-plot with tooltip labels on hover.  Hover over the points to see\n",
    "the point labels.\n",
    "Use the toolbar buttons at the bottom-right of the plot to enable zooming\n",
    "and panning, and to reset the view.\n",
    "\"\"\"\n",
    "\n",
    "fig, ax = plt.subplots(subplot_kw=dict(axisbg='#EEEEEE'))\n",
    "N = 100\n",
    "\n",
    "scatter = ax.scatter(np.random.normal(size=N),\n",
    "                     np.random.normal(size=N),\n",
    "                     c=np.random.random(size=N),\n",
    "                     s=1000 * np.random.random(size=N),\n",
    "                     alpha=0.3,\n",
    "                     cmap=plt.cm.jet)\n",
    "ax.grid(color='white', linestyle='solid')\n",
    "\n",
    "ax.set_title(\"Scatter Plot (with tooltips!)\", size=20)\n",
    "\n",
    "labels = ['point {0}'.format(i + 1) for i in range(N)]\n",
    "tooltip = mpld3.plugins.PointLabelTooltip(scatter, labels=labels)\n",
    "mpld3.plugins.connect(fig, tooltip)\n",
    "\n",
    "mpld3.display()"
   ]
  },
  {
   "cell_type": "code",
   "execution_count": null,
   "metadata": {
    "collapsed": true
   },
   "outputs": [],
   "source": []
  }
 ],
 "metadata": {
  "kernelspec": {
   "display_name": "Python 2",
   "language": "python",
   "name": "python2"
  },
  "language_info": {
   "codemirror_mode": {
    "name": "ipython",
    "version": 2
   },
   "file_extension": ".py",
   "mimetype": "text/x-python",
   "name": "python",
   "nbconvert_exporter": "python",
   "pygments_lexer": "ipython2",
   "version": "2.7.8"
  }
 },
 "nbformat": 4,
 "nbformat_minor": 0
}
