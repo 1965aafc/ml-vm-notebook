{
 "cells": [
  {
   "cell_type": "markdown",
   "metadata": {},
   "source": [
    "# 3D bars\n",
    "An example of using Matplotlib to create 3D plots.\n",
    "\n",
    "Taken from [mplot3d example code: bars3d_demo.py](http://matplotlib.org/examples/mplot3d/bars3d_demo.html)"
   ]
  },
  {
   "cell_type": "code",
   "execution_count": null,
   "metadata": {},
   "outputs": [],
   "source": [
    "# The needed imports\n",
    "import matplotlib.pyplot as plt\n",
    "from mpl_toolkits.mplot3d import Axes3D\n",
    "import numpy as np\n",
    "\n",
    "%matplotlib inline"
   ]
  },
  {
   "cell_type": "code",
   "execution_count": null,
   "metadata": {},
   "outputs": [],
   "source": [
    "# The figure to plot\n",
    "fig = plt.figure( figsize=(15,10) )\n",
    "ax = fig.add_subplot(111, projection='3d');\n",
    "ax.set_xlabel('X')\n",
    "ax.set_ylabel('Y')\n",
    "ax.set_zlabel('Z');\n",
    "for c, z in zip(['r', 'g', 'b', 'y'], [30, 20, 10, 0]):\n",
    "    xs = np.arange(20)\n",
    "    ys = np.random.rand(20)\n",
    "\n",
    "    # You can provide either a single color or an array. To demonstrate this,\n",
    "    # the first bar of each set will be colored cyan.\n",
    "    cs = [c] * len(xs)\n",
    "    cs[0] = 'c'\n",
    "    ax.bar(xs, ys, zs=z, zdir='y', color=cs, alpha=0.8)\n"
   ]
  },
  {
   "cell_type": "code",
   "execution_count": null,
   "metadata": {},
   "outputs": [],
   "source": []
  }
 ],
 "metadata": {
  "kernelspec": {
   "display_name": "Python 3",
   "language": "python",
   "name": "python3"
  },
  "language_info": {
   "codemirror_mode": {
    "name": "ipython",
    "version": 3
   },
   "file_extension": ".py",
   "mimetype": "text/x-python",
   "name": "python",
   "nbconvert_exporter": "python",
   "pygments_lexer": "ipython3",
   "version": "3.5.2"
  }
 },
 "nbformat": 4,
 "nbformat_minor": 1
}
